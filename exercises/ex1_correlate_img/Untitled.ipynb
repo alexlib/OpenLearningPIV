{
 "cells": [
  {
   "cell_type": "markdown",
   "metadata": {},
   "source": [
    "# piv shift detection using cross coralation"
   ]
  },
  {
   "cell_type": "code",
   "execution_count": null,
   "metadata": {},
   "outputs": [],
   "source": [
    "from scipy.signal import correlate2d\n",
    "ia = a[:size,:size].copy()\n",
    "ib = b[:size,:size].copy()\n",
    "c = correlate2d(ia-ia.mean(),ib-ib.mean())\n",
    "# not it's twice bigger than the original windows, as we can shift ia by maximum it's size horizontally and vertically\n",
    "print('Size of the correlation map %d x %d' % c.shape)"
   ]
  }
 ],
 "metadata": {
  "kernelspec": {
   "display_name": "Python 2",
   "language": "python",
   "name": "python2"
  },
  "language_info": {
   "codemirror_mode": {
    "name": "ipython",
    "version": 2
   },
   "file_extension": ".py",
   "mimetype": "text/x-python",
   "name": "python",
   "nbconvert_exporter": "python",
   "pygments_lexer": "ipython2",
   "version": "2.7.15"
  }
 },
 "nbformat": 4,
 "nbformat_minor": 2
}
